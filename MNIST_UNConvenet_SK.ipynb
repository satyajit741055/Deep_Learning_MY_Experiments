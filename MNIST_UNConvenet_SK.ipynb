{
  "nbformat": 4,
  "nbformat_minor": 0,
  "metadata": {
    "colab": {
      "name": "MNIST_Convenet_SK.ipynb",
      "provenance": [],
      "mount_file_id": "1aYz_6gv3Ct3ZbHI6DthnXLX8Tgb-8J1Y",
      "authorship_tag": "ABX9TyNOIsw01ZcUd5Z19n0B9/gf",
      "include_colab_link": true
    },
    "kernelspec": {
      "name": "python3",
      "display_name": "Python 3"
    },
    "language_info": {
      "name": "python"
    },
    "accelerator": "GPU",
    "gpuClass": "standard"
  },
  "cells": [
    {
      "cell_type": "markdown",
      "metadata": {
        "id": "view-in-github",
        "colab_type": "text"
      },
      "source": [
        "<a href=\"https://colab.research.google.com/github/satyajit741055/Deep_Learning_MY_Experiments/blob/main/MNIST_UNConvenet_SK.ipynb\" target=\"_parent\"><img src=\"https://colab.research.google.com/assets/colab-badge.svg\" alt=\"Open In Colab\"/></a>"
      ]
    },
    {
      "cell_type": "code",
      "execution_count": 1,
      "metadata": {
        "id": "OUGXFLVVWzNB"
      },
      "outputs": [],
      "source": [
        "# Author : Satyajit Khot \n",
        "\n",
        "\n",
        "import numpy as np \n",
        "import tensorflow as tf\n",
        "import os\n",
        "os.chdir(\"/content/drive/MyDrive/DataScienceBySk/Deep Learning /Satyajit /Deep Learning/CNN Model\")"
      ]
    },
    {
      "cell_type": "markdown",
      "source": [
        "# Load MNIST data"
      ],
      "metadata": {
        "id": "1Qb1xkdJXjwG"
      }
    },
    {
      "cell_type": "code",
      "source": [
        "mnist = tf.keras.datasets.mnist\n",
        "(X_train_full,y_train_full) , (X_test,Y_test) = mnist.load_data()\n",
        "\n",
        "import matplotlib.pyplot as plt \n",
        "%matplotlib inline\n",
        "plt.imshow(X_train_full[0])"
      ],
      "metadata": {
        "colab": {
          "base_uri": "https://localhost:8080/",
          "height": 334
        },
        "id": "wFwDOJSZXbPu",
        "outputId": "a2cb7961-5d40-4c77-be5b-5b82ca34eff3"
      },
      "execution_count": 2,
      "outputs": [
        {
          "output_type": "stream",
          "name": "stdout",
          "text": [
            "Downloading data from https://storage.googleapis.com/tensorflow/tf-keras-datasets/mnist.npz\n",
            "11493376/11490434 [==============================] - 0s 0us/step\n",
            "11501568/11490434 [==============================] - 0s 0us/step\n"
          ]
        },
        {
          "output_type": "execute_result",
          "data": {
            "text/plain": [
              "<matplotlib.image.AxesImage at 0x7f7031bfcd90>"
            ]
          },
          "metadata": {},
          "execution_count": 2
        },
        {
          "output_type": "display_data",
          "data": {
            "text/plain": [
              "<Figure size 432x288 with 1 Axes>"
            ],
            "image/png": "[encoded data removed]"
          },
          "metadata": {
            "needs_background": "light"
          }
        }
      ]
    },
    {
      "cell_type": "code",
      "source": [
        "#Preprocessing \n",
        "\n",
        "X_val, X_train = X_train_full[:5000]/255. , X_train_full[5000:]/255.\n",
        "Y_val, Y_train = y_train_full[:5000] , y_train_full[5000:]\n",
        "\n",
        "X_test = X_test/255.\n",
        "Y_test = Y_test\n",
        "\n",
        "#Reshaping the data \n",
        "X_train = X_train.reshape(X_train.shape[0],28,28,1)\n",
        "X_val = X_val.reshape(X_val.shape[0],28,28,1)\n",
        "X_test = X_test.reshape(X_test.shape[0],28,28,1)\n",
        "\n",
        "# One Hot Encoding \n",
        "Y_train = tf.keras.utils.to_categorical(Y_train,10)\n",
        "Y_val   = tf.keras.utils.to_categorical(Y_val,10)\n",
        "Y_test  = tf.keras.utils.to_categorical(Y_test,10)\n",
        "\n"
      ],
      "metadata": {
        "id": "yfxKwDFzX3Ck"
      },
      "execution_count": 3,
      "outputs": []
    },
    {
      "cell_type": "markdown",
      "source": [
        "# Regular CNN Model"
      ],
      "metadata": {
        "id": "9ztbe0iUwe4b"
      }
    },
    {
      "cell_type": "code",
      "source": [
        "# CNN Model  \n",
        "input_shape = (28,28,1)\n",
        "\n",
        "model_1 = tf.keras.Sequential([\n",
        "              tf.keras.layers.Conv2D(filters=32,kernel_size=(3,3),activation='relu',input_shape=input_shape), #channel Dimension = 26*26*32\n",
        "              tf.keras.layers.MaxPooling2D(pool_size=(2,2)) ,#channel Dimension = 13*13*32\n",
        "\n",
        "              tf.keras.layers.Conv2D(filters=64,kernel_size=(3,3),activation='relu'), #channel Dimension = 11*11*64\n",
        "              tf.keras.layers.BatchNormalization(), \n",
        "              tf.keras.layers.MaxPooling2D(pool_size=(2,2)) ,#channel Dimension = 5*5*64\n",
        "\n",
        "              tf.keras.layers.Conv2D(filters=128,kernel_size=(5,5),activation='relu'), #channel Dimension = 1*1*128\n",
        "\n",
        "              tf.keras.layers.Flatten(),\n",
        "\n",
        "          \n",
        "              tf.keras.layers.Dense(300,activation='relu'),\n",
        "              tf.keras.layers.Dense(100,activation='relu'),\n",
        "              tf.keras.layers.Dropout(0.1),\n",
        "\n",
        "              tf.keras.layers.Dense(10,activation='softmax')\n",
        "\n",
        "\n",
        "              \n",
        "])\n",
        "\n",
        "model_1.summary()"
      ],
      "metadata": {
        "colab": {
          "base_uri": "https://localhost:8080/"
        },
        "id": "G_crgltxwlHl",
        "outputId": "a7ae2e9f-e16f-4c39-c2d1-00ff8ffaf636"
      },
      "execution_count": 8,
      "outputs": [
        {
          "output_type": "stream",
          "name": "stdout",
          "text": [
            "Model: \"sequential_1\"\n",
            "_________________________________________________________________\n",
            " Layer (type)                Output Shape              Param #   \n",
            "=================================================================\n",
            " conv2d_8 (Conv2D)           (None, 26, 26, 32)        320       \n",
            "                                                                 \n",
            " max_pooling2d_1 (MaxPooling  (None, 13, 13, 32)       0         \n",
            " 2D)                                                             \n",
            "                                                                 \n",
            " conv2d_9 (Conv2D)           (None, 11, 11, 64)        18496     \n",
            "                                                                 \n",
            " batch_normalization_5 (Batc  (None, 11, 11, 64)       256       \n",
            " hNormalization)                                                 \n",
            "                                                                 \n",
            " max_pooling2d_2 (MaxPooling  (None, 5, 5, 64)         0         \n",
            " 2D)                                                             \n",
            "                                                                 \n",
            " conv2d_10 (Conv2D)          (None, 1, 1, 128)         204928    \n",
            "                                                                 \n",
            " flatten_1 (Flatten)         (None, 128)               0         \n",
            "                                                                 \n",
            " dense (Dense)               (None, 300)               38700     \n",
            "                                                                 \n",
            " dense_1 (Dense)             (None, 100)               30100     \n",
            "                                                                 \n",
            " dropout_6 (Dropout)         (None, 100)               0         \n",
            "                                                                 \n",
            " dense_2 (Dense)             (None, 10)                1010      \n",
            "                                                                 \n",
            "=================================================================\n",
            "Total params: 293,810\n",
            "Trainable params: 293,682\n",
            "Non-trainable params: 128\n",
            "_________________________________________________________________\n"
          ]
        }
      ]
    },
    {
      "cell_type": "code",
      "source": [
        "model_1.compile(loss='categorical_crossentropy', optimizer='adam', \n",
        "              metrics=['accuracy'])\n",
        "\n",
        "Early_stopping = tf.keras.callbacks.EarlyStopping(patience=5)\n",
        "\n",
        "history_1 = model_1.fit(X_train,Y_train,epochs=30,batch_size=32,validation_data=(X_val,Y_val),callbacks=[Early_stopping])"
      ],
      "metadata": {
        "colab": {
          "base_uri": "https://localhost:8080/"
        },
        "id": "ArOAZiNXwkxw",
        "outputId": "5ad49cde-88f8-4059-9d7e-10f6aba22992"
      },
      "execution_count": 9,
      "outputs": [
        {
          "output_type": "stream",
          "name": "stdout",
          "text": [
            "Epoch 1/30\n",
            "1719/1719 [==============================] - 9s 5ms/step - loss: 0.1163 - accuracy: 0.9659 - val_loss: 0.0611 - val_accuracy: 0.9812\n",
            "Epoch 2/30\n",
            "1719/1719 [==============================] - 7s 4ms/step - loss: 0.0490 - accuracy: 0.9860 - val_loss: 0.0591 - val_accuracy: 0.9832\n",
            "Epoch 3/30\n",
            "1719/1719 [==============================] - 7s 4ms/step - loss: 0.0380 - accuracy: 0.9898 - val_loss: 0.0591 - val_accuracy: 0.9876\n",
            "Epoch 4/30\n",
            "1719/1719 [==============================] - 7s 4ms/step - loss: 0.0295 - accuracy: 0.9911 - val_loss: 0.0528 - val_accuracy: 0.9888\n",
            "Epoch 5/30\n",
            "1719/1719 [==============================] - 7s 4ms/step - loss: 0.0255 - accuracy: 0.9927 - val_loss: 0.0604 - val_accuracy: 0.9848\n",
            "Epoch 6/30\n",
            "1719/1719 [==============================] - 7s 4ms/step - loss: 0.0235 - accuracy: 0.9935 - val_loss: 0.0529 - val_accuracy: 0.9902\n",
            "Epoch 7/30\n",
            "1719/1719 [==============================] - 7s 4ms/step - loss: 0.0180 - accuracy: 0.9954 - val_loss: 0.0632 - val_accuracy: 0.9894\n",
            "Epoch 8/30\n",
            "1719/1719 [==============================] - 8s 5ms/step - loss: 0.0197 - accuracy: 0.9950 - val_loss: 0.0553 - val_accuracy: 0.9902\n",
            "Epoch 9/30\n",
            "1719/1719 [==============================] - 7s 4ms/step - loss: 0.0170 - accuracy: 0.9951 - val_loss: 0.0620 - val_accuracy: 0.9902\n"
          ]
        }
      ]
    },
    {
      "cell_type": "code",
      "source": [
        "# evaluate test accuracy\n",
        "score = model_1.evaluate(X_test, Y_test, verbose=0)\n",
        "accuracy = 100*score[1]\n",
        "\n",
        "# print test accuracy\n",
        "print('Test accuracy: %.4f%%' % accuracy)"
      ],
      "metadata": {
        "colab": {
          "base_uri": "https://localhost:8080/"
        },
        "id": "fMDzTfBZwkta",
        "outputId": "0ef92366-b2af-412e-fe12-29a54ae5936e"
      },
      "execution_count": 10,
      "outputs": [
        {
          "output_type": "stream",
          "name": "stdout",
          "text": [
            "Test accuracy: 99.1300%\n"
          ]
        }
      ]
    },
    {
      "cell_type": "code",
      "source": [
        ""
      ],
      "metadata": {
        "id": "tC9qFlLiwj9g"
      },
      "execution_count": null,
      "outputs": []
    },
    {
      "cell_type": "markdown",
      "source": [
        "# Unconventional CNN Models "
      ],
      "metadata": {
        "id": "wpyvZq-JZxHy"
      }
    },
    {
      "cell_type": "code",
      "source": [
        "model = tf.keras.Sequential([\n",
        "                               \n",
        "          tf.keras.layers.Conv2D(8,(3,3),activation='relu',input_shape=(28,28,1)), # channel_dim = 26*26*16\n",
        "          tf.keras.layers.BatchNormalization(),\n",
        "          tf.keras.layers.Dropout(0.1),\n",
        "\n",
        "          tf.keras.layers.Conv2D(12,(3,3)), #channel_dim = 24*24*32\n",
        "          tf.keras.layers.BatchNormalization(),\n",
        "          tf.keras.layers.Activation('relu'),\n",
        "          tf.keras.layers.Dropout(0.1),\n",
        "\n",
        "          tf.keras.layers.Conv2D(16,(1,1),activation = 'relu'), #channel_dim = 24*24*32\n",
        "          tf.keras.layers.MaxPooling2D(pool_size=(2,2)), #channel_dim = 12*12*32\n",
        "\n",
        "          tf.keras.layers.Conv2D(10,(3,3),activation = 'relu'), #channel_dim = 10*10*32\n",
        "          \n",
        "          tf.keras.layers.Dropout(0.1),\n",
        "\n",
        "          tf.keras.layers.Conv2D(10,(3,3),activation = 'relu'), #channel_dim = 8*8*32\n",
        "          tf.keras.layers.BatchNormalization(),\n",
        "          tf.keras.layers.Dropout(0.2),\n",
        "\n",
        "          tf.keras.layers.Conv2D(16,(3,3),activation = 'relu'), #channel_dim = 6*6*32\n",
        "          tf.keras.layers.BatchNormalization(),\n",
        "          tf.keras.layers.Dropout(0.1),\n",
        "\n",
        "          tf.keras.layers.Conv2D(16,(3,3),activation = 'relu'), #channel_dim = 4*4*32\n",
        "          tf.keras.layers.BatchNormalization(),\n",
        "          tf.keras.layers.Dropout(0.1),\n",
        "\n",
        "\n",
        "          tf.keras.layers.Conv2D(10,(4,4),activation = 'relu'), #channel_dim = 1*1*32\n",
        "\n",
        "          tf.keras.layers.Flatten(),\n",
        "\n",
        "          tf.keras.layers.Activation('softmax')\n",
        "\n",
        "\n",
        "])\n",
        "\n",
        "\n",
        "model.summary()\n"
      ],
      "metadata": {
        "colab": {
          "base_uri": "https://localhost:8080/"
        },
        "id": "i5sZ_DxhqA--",
        "outputId": "4527636e-d918-47aa-e3d3-cba0f23cb6f7"
      },
      "execution_count": 4,
      "outputs": [
        {
          "output_type": "stream",
          "name": "stdout",
          "text": [
            "Model: \"sequential\"\n",
            "_________________________________________________________________\n",
            " Layer (type)                Output Shape              Param #   \n",
            "=================================================================\n",
            " conv2d (Conv2D)             (None, 26, 26, 8)         80        \n",
            "                                                                 \n",
            " batch_normalization (BatchN  (None, 26, 26, 8)        32        \n",
            " ormalization)                                                   \n",
            "                                                                 \n",
            " dropout (Dropout)           (None, 26, 26, 8)         0         \n",
            "                                                                 \n",
            " conv2d_1 (Conv2D)           (None, 24, 24, 12)        876       \n",
            "                                                                 \n",
            " batch_normalization_1 (Batc  (None, 24, 24, 12)       48        \n",
            " hNormalization)                                                 \n",
            "                                                                 \n",
            " activation (Activation)     (None, 24, 24, 12)        0         \n",
            "                                                                 \n",
            " dropout_1 (Dropout)         (None, 24, 24, 12)        0         \n",
            "                                                                 \n",
            " conv2d_2 (Conv2D)           (None, 24, 24, 16)        208       \n",
            "                                                                 \n",
            " max_pooling2d (MaxPooling2D  (None, 12, 12, 16)       0         \n",
            " )                                                               \n",
            "                                                                 \n",
            " conv2d_3 (Conv2D)           (None, 10, 10, 10)        1450      \n",
            "                                                                 \n",
            " dropout_2 (Dropout)         (None, 10, 10, 10)        0         \n",
            "                                                                 \n",
            " conv2d_4 (Conv2D)           (None, 8, 8, 10)          910       \n",
            "                                                                 \n",
            " batch_normalization_2 (Batc  (None, 8, 8, 10)         40        \n",
            " hNormalization)                                                 \n",
            "                                                                 \n",
            " dropout_3 (Dropout)         (None, 8, 8, 10)          0         \n",
            "                                                                 \n",
            " conv2d_5 (Conv2D)           (None, 6, 6, 16)          1456      \n",
            "                                                                 \n",
            " batch_normalization_3 (Batc  (None, 6, 6, 16)         64        \n",
            " hNormalization)                                                 \n",
            "                                                                 \n",
            " dropout_4 (Dropout)         (None, 6, 6, 16)          0         \n",
            "                                                                 \n",
            " conv2d_6 (Conv2D)           (None, 4, 4, 16)          2320      \n",
            "                                                                 \n",
            " batch_normalization_4 (Batc  (None, 4, 4, 16)         64        \n",
            " hNormalization)                                                 \n",
            "                                                                 \n",
            " dropout_5 (Dropout)         (None, 4, 4, 16)          0         \n",
            "                                                                 \n",
            " conv2d_7 (Conv2D)           (None, 1, 1, 10)          2570      \n",
            "                                                                 \n",
            " flatten (Flatten)           (None, 10)                0         \n",
            "                                                                 \n",
            " activation_1 (Activation)   (None, 10)                0         \n",
            "                                                                 \n",
            "=================================================================\n",
            "Total params: 10,118\n",
            "Trainable params: 9,994\n",
            "Non-trainable params: 124\n",
            "_________________________________________________________________\n"
          ]
        }
      ]
    },
    {
      "cell_type": "code",
      "source": [
        "\n",
        "model.compile(loss='categorical_crossentropy', optimizer='Adam', \n",
        "              metrics=['accuracy'])\n",
        "\n",
        "\n",
        "def scheduler(epoch, lr):\n",
        "  if epoch < 10:\n",
        "    return lr\n",
        "  else:\n",
        "    return lr * tf.math.exp(-0.1)\n",
        "\n",
        "\n",
        "LR = tf.keras.callbacks.LearningRateScheduler(scheduler)\n",
        "Early_stopping =  tf.keras.callbacks.EarlyStopping(patience=5)\n",
        "\n",
        "\n",
        "history = model.fit(X_train,Y_train,batch_size=32,epochs=30,callbacks=[Early_stopping,LR],validation_data=(X_val,Y_val))"
      ],
      "metadata": {
        "colab": {
          "base_uri": "https://localhost:8080/"
        },
        "id": "EkZ1bZ2nrCiV",
        "outputId": "73dfbb13-df1f-4aac-d99d-0852743fd84f"
      },
      "execution_count": 5,
      "outputs": [
        {
          "output_type": "stream",
          "name": "stdout",
          "text": [
            "Epoch 1/30\n",
            "1719/1719 [==============================] - 25s 7ms/step - loss: 0.3425 - accuracy: 0.8915 - val_loss: 0.1084 - val_accuracy: 0.9676 - lr: 0.0010\n",
            "Epoch 2/30\n",
            "1719/1719 [==============================] - 11s 6ms/step - loss: 0.1039 - accuracy: 0.9678 - val_loss: 0.0626 - val_accuracy: 0.9810 - lr: 0.0010\n",
            "Epoch 3/30\n",
            "1719/1719 [==============================] - 11s 6ms/step - loss: 0.0786 - accuracy: 0.9756 - val_loss: 0.0674 - val_accuracy: 0.9810 - lr: 0.0010\n",
            "Epoch 4/30\n",
            "1719/1719 [==============================] - 11s 6ms/step - loss: 0.0677 - accuracy: 0.9777 - val_loss: 0.0491 - val_accuracy: 0.9856 - lr: 0.0010\n",
            "Epoch 5/30\n",
            "1719/1719 [==============================] - 11s 6ms/step - loss: 0.0608 - accuracy: 0.9808 - val_loss: 0.0426 - val_accuracy: 0.9870 - lr: 0.0010\n",
            "Epoch 6/30\n",
            "1719/1719 [==============================] - 10s 6ms/step - loss: 0.0552 - accuracy: 0.9818 - val_loss: 0.0432 - val_accuracy: 0.9876 - lr: 0.0010\n",
            "Epoch 7/30\n",
            "1719/1719 [==============================] - 11s 6ms/step - loss: 0.0537 - accuracy: 0.9833 - val_loss: 0.0385 - val_accuracy: 0.9880 - lr: 0.0010\n",
            "Epoch 8/30\n",
            "1719/1719 [==============================] - 11s 7ms/step - loss: 0.0480 - accuracy: 0.9848 - val_loss: 0.0343 - val_accuracy: 0.9898 - lr: 0.0010\n",
            "Epoch 9/30\n",
            "1719/1719 [==============================] - 11s 6ms/step - loss: 0.0466 - accuracy: 0.9852 - val_loss: 0.0416 - val_accuracy: 0.9886 - lr: 0.0010\n",
            "Epoch 10/30\n",
            "1719/1719 [==============================] - 11s 6ms/step - loss: 0.0455 - accuracy: 0.9847 - val_loss: 0.0346 - val_accuracy: 0.9902 - lr: 0.0010\n",
            "Epoch 11/30\n",
            "1719/1719 [==============================] - 11s 6ms/step - loss: 0.0428 - accuracy: 0.9868 - val_loss: 0.0311 - val_accuracy: 0.9910 - lr: 9.0484e-04\n",
            "Epoch 12/30\n",
            "1719/1719 [==============================] - 11s 6ms/step - loss: 0.0391 - accuracy: 0.9875 - val_loss: 0.0383 - val_accuracy: 0.9882 - lr: 8.1873e-04\n",
            "Epoch 13/30\n",
            "1719/1719 [==============================] - 12s 7ms/step - loss: 0.0367 - accuracy: 0.9882 - val_loss: 0.0316 - val_accuracy: 0.9912 - lr: 7.4082e-04\n",
            "Epoch 14/30\n",
            "1719/1719 [==============================] - 11s 6ms/step - loss: 0.0350 - accuracy: 0.9884 - val_loss: 0.0310 - val_accuracy: 0.9914 - lr: 6.7032e-04\n",
            "Epoch 15/30\n",
            "1719/1719 [==============================] - 11s 6ms/step - loss: 0.0315 - accuracy: 0.9896 - val_loss: 0.0382 - val_accuracy: 0.9902 - lr: 6.0653e-04\n",
            "Epoch 16/30\n",
            "1719/1719 [==============================] - 10s 6ms/step - loss: 0.0330 - accuracy: 0.9891 - val_loss: 0.0276 - val_accuracy: 0.9924 - lr: 5.4881e-04\n",
            "Epoch 17/30\n",
            "1719/1719 [==============================] - 11s 6ms/step - loss: 0.0308 - accuracy: 0.9900 - val_loss: 0.0286 - val_accuracy: 0.9920 - lr: 4.9659e-04\n",
            "Epoch 18/30\n",
            "1719/1719 [==============================] - 10s 6ms/step - loss: 0.0293 - accuracy: 0.9899 - val_loss: 0.0280 - val_accuracy: 0.9926 - lr: 4.4933e-04\n",
            "Epoch 19/30\n",
            "1719/1719 [==============================] - 11s 6ms/step - loss: 0.0285 - accuracy: 0.9909 - val_loss: 0.0286 - val_accuracy: 0.9930 - lr: 4.0657e-04\n",
            "Epoch 20/30\n",
            "1719/1719 [==============================] - 11s 6ms/step - loss: 0.0278 - accuracy: 0.9912 - val_loss: 0.0256 - val_accuracy: 0.9926 - lr: 3.6788e-04\n",
            "Epoch 21/30\n",
            "1719/1719 [==============================] - 11s 6ms/step - loss: 0.0269 - accuracy: 0.9913 - val_loss: 0.0287 - val_accuracy: 0.9928 - lr: 3.3287e-04\n",
            "Epoch 22/30\n",
            "1719/1719 [==============================] - 11s 6ms/step - loss: 0.0249 - accuracy: 0.9921 - val_loss: 0.0284 - val_accuracy: 0.9926 - lr: 3.0119e-04\n",
            "Epoch 23/30\n",
            "1719/1719 [==============================] - 11s 6ms/step - loss: 0.0254 - accuracy: 0.9919 - val_loss: 0.0267 - val_accuracy: 0.9934 - lr: 2.7253e-04\n",
            "Epoch 24/30\n",
            "1719/1719 [==============================] - 11s 6ms/step - loss: 0.0235 - accuracy: 0.9923 - val_loss: 0.0274 - val_accuracy: 0.9920 - lr: 2.4660e-04\n",
            "Epoch 25/30\n",
            "1719/1719 [==============================] - 11s 6ms/step - loss: 0.0241 - accuracy: 0.9924 - val_loss: 0.0270 - val_accuracy: 0.9928 - lr: 2.2313e-04\n"
          ]
        }
      ]
    },
    {
      "cell_type": "code",
      "source": [
        "# evaluate test accuracy\n",
        "score = model.evaluate(X_test, Y_test, verbose=0)\n",
        "accuracy = 100*score[1]\n",
        "\n",
        "# print test accuracy\n",
        "print('Test accuracy: %.4f%%' % accuracy)"
      ],
      "metadata": {
        "colab": {
          "base_uri": "https://localhost:8080/"
        },
        "id": "jAvjaLfXr5hJ",
        "outputId": "253c3564-3ea6-4d44-c1cf-8ab7ddbc36d1"
      },
      "execution_count": 7,
      "outputs": [
        {
          "output_type": "stream",
          "name": "stdout",
          "text": [
            "Test accuracy: 99.3600%\n"
          ]
        }
      ]
    },
    {
      "cell_type": "markdown",
      "source": [
        ""
      ],
      "metadata": {
        "id": "eHEcvMdgwa6J"
      }
    }
  ]
}